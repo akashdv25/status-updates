{
 "cells": [
  {
   "cell_type": "code",
   "execution_count": 105,
   "id": "2451ac68",
   "metadata": {},
   "outputs": [],
   "source": [
    "from pyspark.sql import SparkSession\n",
    "import pyspark\n",
    "\n",
    "spark = SparkSession.builder.appName('test').getOrCreate()"
   ]
  },
  {
   "cell_type": "code",
   "execution_count": 106,
   "id": "205e222b",
   "metadata": {},
   "outputs": [
    {
     "data": {
      "text/html": [
       "\n",
       "            <div>\n",
       "                <p><b>SparkSession - in-memory</b></p>\n",
       "                \n",
       "        <div>\n",
       "            <p><b>SparkContext</b></p>\n",
       "\n",
       "            <p><a href=\"http://akash-data25:4040\">Spark UI</a></p>\n",
       "\n",
       "            <dl>\n",
       "              <dt>Version</dt>\n",
       "                <dd><code>v3.5.5</code></dd>\n",
       "              <dt>Master</dt>\n",
       "                <dd><code>local[*]</code></dd>\n",
       "              <dt>AppName</dt>\n",
       "                <dd><code>test</code></dd>\n",
       "            </dl>\n",
       "        </div>\n",
       "        \n",
       "            </div>\n",
       "        "
      ],
      "text/plain": [
       "<pyspark.sql.session.SparkSession at 0x79534c096840>"
      ]
     },
     "execution_count": 106,
     "metadata": {},
     "output_type": "execute_result"
    }
   ],
   "source": [
    "spark"
   ]
  },
  {
   "cell_type": "code",
   "execution_count": 107,
   "id": "ec3383a3",
   "metadata": {},
   "outputs": [],
   "source": [
    "df = spark.read.option('header', 'false') \\\n",
    "               .option('delimiter', '|') \\\n",
    "               .option('inferSchema', 'true') \\\n",
    "               .csv('/home/new-user/Documents/new/data/nyse_all/nyse_stocks/companylist_noheader.csv')\n"
   ]
  },
  {
   "cell_type": "code",
   "execution_count": 108,
   "id": "e117080a",
   "metadata": {},
   "outputs": [
    {
     "name": "stdout",
     "output_type": "stream",
     "text": [
      "+----+--------------------+------+-----------------+---+----+-----------------+--------------------+--------------------+----+\n",
      "| _c0|                 _c1|   _c2|              _c3|_c4| _c5|              _c6|                 _c7|                 _c8| _c9|\n",
      "+----+--------------------+------+-----------------+---+----+-----------------+--------------------+--------------------+----+\n",
      "| DDD|3D Systems Corpor...| 51.37|  5.34093160546E9|n/a| n/a|       Technology|Computer Software...|http://www.nasdaq...|NULL|\n",
      "| MMM|          3M Company|142.39|9.316270806833E10|n/a| n/a|      Health Care|Medical/Dental In...|http://www.nasdaq...|NULL|\n",
      "|WBAI|     500.com Limited| 33.71|  1.10817057295E9|n/a|2013|Consumer Services|Services-Misc. Am...|http://www.nasdaq...|NULL|\n",
      "|WUBA|         58.com Inc.| 41.57|  3.30225204322E9|n/a|2013|       Technology|Computer Software...|http://www.nasdaq...|NULL|\n",
      "| AHC|A.H. Belo Corpora...| 11.67|   2.5692000975E8|n/a| n/a|Consumer Services|Newspapers/Magazines|http://www.nasdaq...|NULL|\n",
      "|ATEN|  A10 Networks, Inc.| 11.43|   6.8642274069E8|n/a|2014|       Technology|Computer Communic...|http://www.nasdaq...|NULL|\n",
      "| AIR|           AAR Corp.| 24.34|     9.63098507E8|n/a| n/a|    Capital Goods|           Aerospace|http://www.nasdaq...|NULL|\n",
      "| AAN|  Aaron&#39;s,  Inc.| 32.85|  2.37280566195E9|n/a| n/a|       Technology|Diversified Comme...|http://www.nasdaq...|NULL|\n",
      "| ABB|             ABB Ltd| 23.77|5.468643395608E10|n/a| n/a|Consumer Durables| Electrical Products|http://www.nasdaq...|NULL|\n",
      "| ABT| Abbott Laboratories|  39.6| 5.94767661048E10|n/a| n/a|      Health Care|Major Pharmaceuti...|http://www.nasdaq...|NULL|\n",
      "|ABBV|         AbbVie Inc.| 54.03|8.591129077977E10|n/a|2012|      Health Care|Major Pharmaceuti...|http://www.nasdaq...|NULL|\n",
      "| ANF|Abercrombie & Fit...| 37.14|  2.70286762254E9|n/a| n/a|Consumer Services|Clothing/Shoe/Acc...|http://www.nasdaq...|NULL|\n",
      "| GCH|Aberdeen Greater ...| 10.29|   2.4971784348E8|n/a|1992|              n/a|                 n/a|http://www.nasdaq...|NULL|\n",
      "| JEQ|Aberdeen Japan Eq...|   6.8|     9.63798952E7|n/a|1992|              n/a|                 n/a|http://www.nasdaq...|NULL|\n",
      "| SGF|Aberdeen Singapor...| 13.07|   1.0000886916E8|n/a|1990|              n/a|                 n/a|http://www.nasdaq...|NULL|\n",
      "| ABM|ABM Industries In...| 27.33|  1.52672343684E9|n/a| n/a|          Finance|Diversified Comme...|http://www.nasdaq...|NULL|\n",
      "| AKR| Acadia Realty Trust| 27.45|   1.5749893719E9|n/a| n/a|Consumer Services|Real Estate Inves...|http://www.nasdaq...|NULL|\n",
      "| ACN|      Accenture plc.| 80.42|6.518223288014E10|n/a|2001|    Miscellaneous|   Business Services|http://www.nasdaq...|NULL|\n",
      "|ACMP|Access Midstream ...| 62.46|1.262256126228E10|n/a| n/a| Public Utilities|Natural Gas Distr...|http://www.nasdaq...|NULL|\n",
      "|ACCO|Acco Brands Corpo...|  6.06|   6.9144426684E8|n/a| n/a|Consumer Durables|          Publishing|http://www.nasdaq...|NULL|\n",
      "+----+--------------------+------+-----------------+---+----+-----------------+--------------------+--------------------+----+\n",
      "only showing top 20 rows\n",
      "\n"
     ]
    }
   ],
   "source": [
    "df.show()"
   ]
  },
  {
   "cell_type": "code",
   "execution_count": 109,
   "id": "205d7a75",
   "metadata": {},
   "outputs": [],
   "source": [
    "new_columns = [\n",
    "    \"Symbol\", \"CompanyName\", \"Price\", \"MarketCap\", \n",
    "    \"Column5\", \"Column6\", \"Sector\", \"Industry\", \"Website\", \"Extra\"\n",
    "]\n",
    "\n",
    "df = df.toDF(*new_columns)\n"
   ]
  },
  {
   "cell_type": "code",
   "execution_count": 110,
   "id": "97460c53",
   "metadata": {},
   "outputs": [],
   "source": [
    "df = df.drop('Column5')"
   ]
  },
  {
   "cell_type": "code",
   "execution_count": 111,
   "id": "3cf0ea4e",
   "metadata": {},
   "outputs": [],
   "source": [
    "df = df.drop('Column6')"
   ]
  },
  {
   "cell_type": "code",
   "execution_count": 112,
   "id": "b7916a18",
   "metadata": {},
   "outputs": [],
   "source": [
    "df = df.drop('Extra')"
   ]
  },
  {
   "cell_type": "code",
   "execution_count": 113,
   "id": "7b2a173d",
   "metadata": {},
   "outputs": [
    {
     "name": "stdout",
     "output_type": "stream",
     "text": [
      "+------+--------------------+------+-----------------+-----------------+--------------------+--------------------+\n",
      "|Symbol|         CompanyName| Price|        MarketCap|           Sector|            Industry|             Website|\n",
      "+------+--------------------+------+-----------------+-----------------+--------------------+--------------------+\n",
      "|   DDD|3D Systems Corpor...| 51.37|  5.34093160546E9|       Technology|Computer Software...|http://www.nasdaq...|\n",
      "|   MMM|          3M Company|142.39|9.316270806833E10|      Health Care|Medical/Dental In...|http://www.nasdaq...|\n",
      "|  WBAI|     500.com Limited| 33.71|  1.10817057295E9|Consumer Services|Services-Misc. Am...|http://www.nasdaq...|\n",
      "|  WUBA|         58.com Inc.| 41.57|  3.30225204322E9|       Technology|Computer Software...|http://www.nasdaq...|\n",
      "|   AHC|A.H. Belo Corpora...| 11.67|   2.5692000975E8|Consumer Services|Newspapers/Magazines|http://www.nasdaq...|\n",
      "|  ATEN|  A10 Networks, Inc.| 11.43|   6.8642274069E8|       Technology|Computer Communic...|http://www.nasdaq...|\n",
      "|   AIR|           AAR Corp.| 24.34|     9.63098507E8|    Capital Goods|           Aerospace|http://www.nasdaq...|\n",
      "|   AAN|  Aaron&#39;s,  Inc.| 32.85|  2.37280566195E9|       Technology|Diversified Comme...|http://www.nasdaq...|\n",
      "|   ABB|             ABB Ltd| 23.77|5.468643395608E10|Consumer Durables| Electrical Products|http://www.nasdaq...|\n",
      "|   ABT| Abbott Laboratories|  39.6| 5.94767661048E10|      Health Care|Major Pharmaceuti...|http://www.nasdaq...|\n",
      "|  ABBV|         AbbVie Inc.| 54.03|8.591129077977E10|      Health Care|Major Pharmaceuti...|http://www.nasdaq...|\n",
      "|   ANF|Abercrombie & Fit...| 37.14|  2.70286762254E9|Consumer Services|Clothing/Shoe/Acc...|http://www.nasdaq...|\n",
      "|   GCH|Aberdeen Greater ...| 10.29|   2.4971784348E8|              n/a|                 n/a|http://www.nasdaq...|\n",
      "|   JEQ|Aberdeen Japan Eq...|   6.8|     9.63798952E7|              n/a|                 n/a|http://www.nasdaq...|\n",
      "|   SGF|Aberdeen Singapor...| 13.07|   1.0000886916E8|              n/a|                 n/a|http://www.nasdaq...|\n",
      "|   ABM|ABM Industries In...| 27.33|  1.52672343684E9|          Finance|Diversified Comme...|http://www.nasdaq...|\n",
      "|   AKR| Acadia Realty Trust| 27.45|   1.5749893719E9|Consumer Services|Real Estate Inves...|http://www.nasdaq...|\n",
      "|   ACN|      Accenture plc.| 80.42|6.518223288014E10|    Miscellaneous|   Business Services|http://www.nasdaq...|\n",
      "|  ACMP|Access Midstream ...| 62.46|1.262256126228E10| Public Utilities|Natural Gas Distr...|http://www.nasdaq...|\n",
      "|  ACCO|Acco Brands Corpo...|  6.06|   6.9144426684E8|Consumer Durables|          Publishing|http://www.nasdaq...|\n",
      "+------+--------------------+------+-----------------+-----------------+--------------------+--------------------+\n",
      "only showing top 20 rows\n",
      "\n"
     ]
    }
   ],
   "source": [
    "df.show()"
   ]
  },
  {
   "cell_type": "code",
   "execution_count": 114,
   "id": "fd045b64",
   "metadata": {},
   "outputs": [
    {
     "name": "stdout",
     "output_type": "stream",
     "text": [
      "root\n",
      " |-- Symbol: string (nullable = true)\n",
      " |-- CompanyName: string (nullable = true)\n",
      " |-- Price: string (nullable = true)\n",
      " |-- MarketCap: double (nullable = true)\n",
      " |-- Sector: string (nullable = true)\n",
      " |-- Industry: string (nullable = true)\n",
      " |-- Website: string (nullable = true)\n",
      "\n"
     ]
    }
   ],
   "source": [
    "df.printSchema()"
   ]
  },
  {
   "cell_type": "code",
   "execution_count": 115,
   "id": "bbe3b7da",
   "metadata": {},
   "outputs": [],
   "source": [
    "from pyspark.sql.functions import col\n",
    "\n",
    "df = df.withColumn(\"Price\", col(\"Price\").cast(\"double\")) \n"
   ]
  },
  {
   "cell_type": "code",
   "execution_count": 116,
   "id": "2d55b904",
   "metadata": {},
   "outputs": [
    {
     "name": "stdout",
     "output_type": "stream",
     "text": [
      "root\n",
      " |-- Symbol: string (nullable = true)\n",
      " |-- CompanyName: string (nullable = true)\n",
      " |-- Price: double (nullable = true)\n",
      " |-- MarketCap: double (nullable = true)\n",
      " |-- Sector: string (nullable = true)\n",
      " |-- Industry: string (nullable = true)\n",
      " |-- Website: string (nullable = true)\n",
      "\n"
     ]
    }
   ],
   "source": [
    "df.printSchema()"
   ]
  },
  {
   "cell_type": "code",
   "execution_count": 117,
   "id": "49c48079",
   "metadata": {},
   "outputs": [
    {
     "name": "stdout",
     "output_type": "stream",
     "text": [
      "+------+-----------+-----+---------+------+--------+-------+\n",
      "|Symbol|CompanyName|Price|MarketCap|Sector|Industry|Website|\n",
      "+------+-----------+-----+---------+------+--------+-------+\n",
      "|     0|          0|   18|        0|  1019|    1019|      0|\n",
      "+------+-----------+-----+---------+------+--------+-------+\n",
      "\n"
     ]
    }
   ],
   "source": [
    "from pyspark.sql.functions import col, when, count\n",
    "\n",
    "# List of strings to treat as nulls\n",
    "null_equivalents = [\"n/a\", \"N/A\", \"NA\", \"na\", \"null\", \"NULL\", \"\"]\n",
    "\n",
    "null_counts = df.select([\n",
    "    count(\n",
    "        when(\n",
    "            col(c).isNull() | col(c).isin(null_equivalents),  # check for null or placeholder strings\n",
    "            c\n",
    "        )\n",
    "    ).alias(c) for c in df.columns\n",
    "])\n",
    "\n",
    "null_counts.show()\n",
    "\n"
   ]
  },
  {
   "cell_type": "code",
   "execution_count": 118,
   "id": "beaf6e0f",
   "metadata": {},
   "outputs": [
    {
     "name": "stdout",
     "output_type": "stream",
     "text": [
      "+-------+------+--------------------+-----------------+--------------------+----------------+--------------------+--------------------+\n",
      "|summary|Symbol|         CompanyName|            Price|           MarketCap|          Sector|            Industry|             Website|\n",
      "+-------+------+--------------------+-----------------+--------------------+----------------+--------------------+--------------------+\n",
      "|  count|  3298|                3298|             3280|                3298|            3298|                3298|                3298|\n",
      "|   mean|   NaN|                NULL|96.36651750000009| 7.925952329822477E9|            NULL|                NULL|                NULL|\n",
      "| stddev|   NaN|                NULL|3357.623228128144|2.463324980810021E10|            NULL|                NULL|                NULL|\n",
      "|    min|     A|3D Systems Corpor...|            0.037|                 0.0|Basic Industries|Accident &Health ...|http://www.nasdaq...|\n",
      "|    max|  ZZJJ|         voxeljet AG|         192300.0|   4.348913289071E11|             n/a|                 n/a|http://www.nasdaq...|\n",
      "+-------+------+--------------------+-----------------+--------------------+----------------+--------------------+--------------------+\n",
      "\n"
     ]
    }
   ],
   "source": [
    "df.describe().show()"
   ]
  },
  {
   "cell_type": "code",
   "execution_count": 119,
   "id": "eae2abeb",
   "metadata": {},
   "outputs": [
    {
     "name": "stdout",
     "output_type": "stream",
     "text": [
      "+------+--------------------+------+-----------------+-----------------+--------------------+--------------------+------------+\n",
      "|Symbol|         CompanyName| Price|        MarketCap|           Sector|            Industry|             Website|Price_double|\n",
      "+------+--------------------+------+-----------------+-----------------+--------------------+--------------------+------------+\n",
      "|   DDD|3D Systems Corpor...| 51.37|  5.34093160546E9|       Technology|Computer Software...|http://www.nasdaq...|      102.74|\n",
      "|   MMM|          3M Company|142.39|9.316270806833E10|      Health Care|Medical/Dental In...|http://www.nasdaq...|      284.78|\n",
      "|  WBAI|     500.com Limited| 33.71|  1.10817057295E9|Consumer Services|Services-Misc. Am...|http://www.nasdaq...|       67.42|\n",
      "|  WUBA|         58.com Inc.| 41.57|  3.30225204322E9|       Technology|Computer Software...|http://www.nasdaq...|       83.14|\n",
      "|   AHC|A.H. Belo Corpora...| 11.67|   2.5692000975E8|Consumer Services|Newspapers/Magazines|http://www.nasdaq...|       23.34|\n",
      "|  ATEN|  A10 Networks, Inc.| 11.43|   6.8642274069E8|       Technology|Computer Communic...|http://www.nasdaq...|       22.86|\n",
      "|   AIR|           AAR Corp.| 24.34|     9.63098507E8|    Capital Goods|           Aerospace|http://www.nasdaq...|       48.68|\n",
      "|   AAN|  Aaron&#39;s,  Inc.| 32.85|  2.37280566195E9|       Technology|Diversified Comme...|http://www.nasdaq...|        65.7|\n",
      "|   ABB|             ABB Ltd| 23.77|5.468643395608E10|Consumer Durables| Electrical Products|http://www.nasdaq...|       47.54|\n",
      "|   ABT| Abbott Laboratories|  39.6| 5.94767661048E10|      Health Care|Major Pharmaceuti...|http://www.nasdaq...|        79.2|\n",
      "|  ABBV|         AbbVie Inc.| 54.03|8.591129077977E10|      Health Care|Major Pharmaceuti...|http://www.nasdaq...|      108.06|\n",
      "|   ANF|Abercrombie & Fit...| 37.14|  2.70286762254E9|Consumer Services|Clothing/Shoe/Acc...|http://www.nasdaq...|       74.28|\n",
      "|   GCH|Aberdeen Greater ...| 10.29|   2.4971784348E8|              n/a|                 n/a|http://www.nasdaq...|       20.58|\n",
      "|   JEQ|Aberdeen Japan Eq...|   6.8|     9.63798952E7|              n/a|                 n/a|http://www.nasdaq...|        13.6|\n",
      "|   SGF|Aberdeen Singapor...| 13.07|   1.0000886916E8|              n/a|                 n/a|http://www.nasdaq...|       26.14|\n",
      "|   ABM|ABM Industries In...| 27.33|  1.52672343684E9|          Finance|Diversified Comme...|http://www.nasdaq...|       54.66|\n",
      "|   AKR| Acadia Realty Trust| 27.45|   1.5749893719E9|Consumer Services|Real Estate Inves...|http://www.nasdaq...|        54.9|\n",
      "|   ACN|      Accenture plc.| 80.42|6.518223288014E10|    Miscellaneous|   Business Services|http://www.nasdaq...|      160.84|\n",
      "|  ACMP|Access Midstream ...| 62.46|1.262256126228E10| Public Utilities|Natural Gas Distr...|http://www.nasdaq...|      124.92|\n",
      "|  ACCO|Acco Brands Corpo...|  6.06|   6.9144426684E8|Consumer Durables|          Publishing|http://www.nasdaq...|       12.12|\n",
      "+------+--------------------+------+-----------------+-----------------+--------------------+--------------------+------------+\n",
      "only showing top 20 rows\n",
      "\n"
     ]
    }
   ],
   "source": [
    "df_new= df.withColumn('Price_double' , df['Price']*2).show()"
   ]
  },
  {
   "cell_type": "code",
   "execution_count": 121,
   "id": "05a227cd",
   "metadata": {},
   "outputs": [
    {
     "name": "stdout",
     "output_type": "stream",
     "text": [
      "+------+--------------------+------+-----------------+-----------------+--------------------+--------------------+\n",
      "|Symbol|         CompanyName| Price|        MarketCap|           Sector|            Industry|             Website|\n",
      "+------+--------------------+------+-----------------+-----------------+--------------------+--------------------+\n",
      "|   DDD|3D Systems Corpor...| 51.37|  5.34093160546E9|       Technology|Computer Software...|http://www.nasdaq...|\n",
      "|   MMM|          3M Company|142.39|9.316270806833E10|      Health Care|Medical/Dental In...|http://www.nasdaq...|\n",
      "|  WBAI|     500.com Limited| 33.71|  1.10817057295E9|Consumer Services|Services-Misc. Am...|http://www.nasdaq...|\n",
      "|  WUBA|         58.com Inc.| 41.57|  3.30225204322E9|       Technology|Computer Software...|http://www.nasdaq...|\n",
      "|   AHC|A.H. Belo Corpora...| 11.67|   2.5692000975E8|Consumer Services|Newspapers/Magazines|http://www.nasdaq...|\n",
      "|  ATEN|  A10 Networks, Inc.| 11.43|   6.8642274069E8|       Technology|Computer Communic...|http://www.nasdaq...|\n",
      "|   AIR|           AAR Corp.| 24.34|     9.63098507E8|    Capital Goods|           Aerospace|http://www.nasdaq...|\n",
      "|   AAN|  Aaron&#39;s,  Inc.| 32.85|  2.37280566195E9|       Technology|Diversified Comme...|http://www.nasdaq...|\n",
      "|   ABB|             ABB Ltd| 23.77|5.468643395608E10|Consumer Durables| Electrical Products|http://www.nasdaq...|\n",
      "|   ABT| Abbott Laboratories|  39.6| 5.94767661048E10|      Health Care|Major Pharmaceuti...|http://www.nasdaq...|\n",
      "|  ABBV|         AbbVie Inc.| 54.03|8.591129077977E10|      Health Care|Major Pharmaceuti...|http://www.nasdaq...|\n",
      "|   ANF|Abercrombie & Fit...| 37.14|  2.70286762254E9|Consumer Services|Clothing/Shoe/Acc...|http://www.nasdaq...|\n",
      "|   GCH|Aberdeen Greater ...| 10.29|   2.4971784348E8|              n/a|                 n/a|http://www.nasdaq...|\n",
      "|   JEQ|Aberdeen Japan Eq...|   6.8|     9.63798952E7|              n/a|                 n/a|http://www.nasdaq...|\n",
      "|   SGF|Aberdeen Singapor...| 13.07|   1.0000886916E8|              n/a|                 n/a|http://www.nasdaq...|\n",
      "|   ABM|ABM Industries In...| 27.33|  1.52672343684E9|          Finance|Diversified Comme...|http://www.nasdaq...|\n",
      "|   AKR| Acadia Realty Trust| 27.45|   1.5749893719E9|Consumer Services|Real Estate Inves...|http://www.nasdaq...|\n",
      "|   ACN|      Accenture plc.| 80.42|6.518223288014E10|    Miscellaneous|   Business Services|http://www.nasdaq...|\n",
      "|  ACMP|Access Midstream ...| 62.46|1.262256126228E10| Public Utilities|Natural Gas Distr...|http://www.nasdaq...|\n",
      "|  ACCO|Acco Brands Corpo...|  6.06|   6.9144426684E8|Consumer Durables|          Publishing|http://www.nasdaq...|\n",
      "+------+--------------------+------+-----------------+-----------------+--------------------+--------------------+\n",
      "only showing top 20 rows\n",
      "\n"
     ]
    }
   ],
   "source": [
    "df.show()"
   ]
  },
  {
   "cell_type": "code",
   "execution_count": 122,
   "id": "095a0a61",
   "metadata": {},
   "outputs": [
    {
     "name": "stdout",
     "output_type": "stream",
     "text": [
      "+------+--------------------+------+-----------------+-----------------+--------------------+--------------------+\n",
      "|Symbol|         CompanyName| Price|        MarketCap|           Sector|            Industry|             Website|\n",
      "+------+--------------------+------+-----------------+-----------------+--------------------+--------------------+\n",
      "|   DDD|3D Systems Corpor...| 51.37|  5.34093160546E9|       Technology|Computer Software...|http://www.nasdaq...|\n",
      "|   MMM|          3M Company|142.39|9.316270806833E10|      Health Care|Medical/Dental In...|http://www.nasdaq...|\n",
      "|  WBAI|     500.com Limited| 33.71|  1.10817057295E9|Consumer Services|Services-Misc. Am...|http://www.nasdaq...|\n",
      "|  WUBA|         58.com Inc.| 41.57|  3.30225204322E9|       Technology|Computer Software...|http://www.nasdaq...|\n",
      "|   AHC|A.H. Belo Corpora...| 11.67|   2.5692000975E8|Consumer Services|Newspapers/Magazines|http://www.nasdaq...|\n",
      "|  ATEN|  A10 Networks, Inc.| 11.43|   6.8642274069E8|       Technology|Computer Communic...|http://www.nasdaq...|\n",
      "|   AIR|           AAR Corp.| 24.34|     9.63098507E8|    Capital Goods|           Aerospace|http://www.nasdaq...|\n",
      "|   AAN|  Aaron&#39;s,  Inc.| 32.85|  2.37280566195E9|       Technology|Diversified Comme...|http://www.nasdaq...|\n",
      "|   ABB|             ABB Ltd| 23.77|5.468643395608E10|Consumer Durables| Electrical Products|http://www.nasdaq...|\n",
      "|   ABT| Abbott Laboratories|  39.6| 5.94767661048E10|      Health Care|Major Pharmaceuti...|http://www.nasdaq...|\n",
      "|  ABBV|         AbbVie Inc.| 54.03|8.591129077977E10|      Health Care|Major Pharmaceuti...|http://www.nasdaq...|\n",
      "|   ANF|Abercrombie & Fit...| 37.14|  2.70286762254E9|Consumer Services|Clothing/Shoe/Acc...|http://www.nasdaq...|\n",
      "|   GCH|Aberdeen Greater ...| 10.29|   2.4971784348E8|              n/a|                 n/a|http://www.nasdaq...|\n",
      "|   JEQ|Aberdeen Japan Eq...|   6.8|     9.63798952E7|              n/a|                 n/a|http://www.nasdaq...|\n",
      "|   SGF|Aberdeen Singapor...| 13.07|   1.0000886916E8|              n/a|                 n/a|http://www.nasdaq...|\n",
      "|   ABM|ABM Industries In...| 27.33|  1.52672343684E9|          Finance|Diversified Comme...|http://www.nasdaq...|\n",
      "|   AKR| Acadia Realty Trust| 27.45|   1.5749893719E9|Consumer Services|Real Estate Inves...|http://www.nasdaq...|\n",
      "|   ACN|      Accenture plc.| 80.42|6.518223288014E10|    Miscellaneous|   Business Services|http://www.nasdaq...|\n",
      "|  ACMP|Access Midstream ...| 62.46|1.262256126228E10| Public Utilities|Natural Gas Distr...|http://www.nasdaq...|\n",
      "|  ACCO|Acco Brands Corpo...|  6.06|   6.9144426684E8|Consumer Durables|          Publishing|http://www.nasdaq...|\n",
      "+------+--------------------+------+-----------------+-----------------+--------------------+--------------------+\n",
      "only showing top 20 rows\n",
      "\n"
     ]
    }
   ],
   "source": [
    "df.na.drop().show()"
   ]
  },
  {
   "cell_type": "code",
   "execution_count": 128,
   "id": "51c080a5",
   "metadata": {},
   "outputs": [
    {
     "data": {
      "text/plain": [
       "281"
      ]
     },
     "execution_count": 128,
     "metadata": {},
     "output_type": "execute_result"
    }
   ],
   "source": [
    "df.filter('Price>80').count()"
   ]
  },
  {
   "cell_type": "code",
   "execution_count": null,
   "id": "be3ee4d5",
   "metadata": {},
   "outputs": [
    {
     "name": "stdout",
     "output_type": "stream",
     "text": [
      "+--------------------+-----+\n",
      "|              Sector|count|\n",
      "+--------------------+-----+\n",
      "|       Miscellaneous|   51|\n",
      "|         Health Care|  111|\n",
      "|    Public Utilities|  215|\n",
      "|              Energy|  246|\n",
      "|Consumer Non-Dura...|  119|\n",
      "|             Finance|  391|\n",
      "|                 n/a| 1019|\n",
      "|    Basic Industries|  208|\n",
      "|       Capital Goods|  193|\n",
      "|          Technology|  179|\n",
      "|   Consumer Services|  443|\n",
      "|   Consumer Durables|   66|\n",
      "|      Transportation|   57|\n",
      "+--------------------+-----+\n",
      "\n"
     ]
    }
   ],
   "source": [
    "df.groupBy('Sector').count().show()"
   ]
  },
  {
   "cell_type": "code",
   "execution_count": 134,
   "id": "5fba8f2a",
   "metadata": {},
   "outputs": [
    {
     "name": "stdout",
     "output_type": "stream",
     "text": [
      "+--------------------+----------+\n",
      "|              Sector|max(Price)|\n",
      "+--------------------+----------+\n",
      "|       Miscellaneous|    256.83|\n",
      "|         Health Care|    213.45|\n",
      "|    Public Utilities|    114.97|\n",
      "|              Energy|    210.15|\n",
      "|Consumer Non-Dura...|    218.95|\n",
      "|             Finance|  192300.0|\n",
      "|                 n/a|   1216.42|\n",
      "|    Basic Industries|     391.5|\n",
      "|       Capital Goods|   1129.02|\n",
      "|          Technology|    183.76|\n",
      "|   Consumer Services|    679.62|\n",
      "|   Consumer Durables|    143.22|\n",
      "|      Transportation|     197.8|\n",
      "+--------------------+----------+\n",
      "\n"
     ]
    }
   ],
   "source": [
    "df.groupby('Sector').agg({\"Price\" : 'max'}).show()"
   ]
  },
  {
   "cell_type": "code",
   "execution_count": 146,
   "id": "448a53b0",
   "metadata": {},
   "outputs": [
    {
     "name": "stdout",
     "output_type": "stream",
     "text": [
      "+------+--------------------+------+-----------------+-----------------+--------------------+--------------------+\n",
      "|Symbol|         CompanyName| Price|        MarketCap|           Sector|            Industry|             Website|\n",
      "+------+--------------------+------+-----------------+-----------------+--------------------+--------------------+\n",
      "|   DDD|3D Systems Corpor...| 51.37|  5.34093160546E9|       Technology|Computer Software...|http://www.nasdaq...|\n",
      "|   MMM|          3M Company|142.39|9.316270806833E10|      Health Care|Medical/Dental In...|http://www.nasdaq...|\n",
      "|  WBAI|     500.com Limited| 33.71|  1.10817057295E9|Consumer Services|Services-Misc. Am...|http://www.nasdaq...|\n",
      "|  WUBA|         58.com Inc.| 41.57|  3.30225204322E9|       Technology|Computer Software...|http://www.nasdaq...|\n",
      "|   AHC|A.H. Belo Corpora...| 11.67|   2.5692000975E8|Consumer Services|Newspapers/Magazines|http://www.nasdaq...|\n",
      "|  ATEN|  A10 Networks, Inc.| 11.43|   6.8642274069E8|       Technology|Computer Communic...|http://www.nasdaq...|\n",
      "|   AIR|           AAR Corp.| 24.34|     9.63098507E8|    Capital Goods|           Aerospace|http://www.nasdaq...|\n",
      "|   AAN|  Aaron&#39;s,  Inc.| 32.85|  2.37280566195E9|       Technology|Diversified Comme...|http://www.nasdaq...|\n",
      "|   ABB|             ABB Ltd| 23.77|5.468643395608E10|Consumer Durables| Electrical Products|http://www.nasdaq...|\n",
      "|   ABT| Abbott Laboratories|  39.6| 5.94767661048E10|      Health Care|Major Pharmaceuti...|http://www.nasdaq...|\n",
      "|  ABBV|         AbbVie Inc.| 54.03|8.591129077977E10|      Health Care|Major Pharmaceuti...|http://www.nasdaq...|\n",
      "|   ANF|Abercrombie & Fit...| 37.14|  2.70286762254E9|Consumer Services|Clothing/Shoe/Acc...|http://www.nasdaq...|\n",
      "|   ABM|ABM Industries In...| 27.33|  1.52672343684E9|          Finance|Diversified Comme...|http://www.nasdaq...|\n",
      "|   AKR| Acadia Realty Trust| 27.45|   1.5749893719E9|Consumer Services|Real Estate Inves...|http://www.nasdaq...|\n",
      "|   ACN|      Accenture plc.| 80.42|6.518223288014E10|    Miscellaneous|   Business Services|http://www.nasdaq...|\n",
      "|  ACMP|Access Midstream ...| 62.46|1.262256126228E10| Public Utilities|Natural Gas Distr...|http://www.nasdaq...|\n",
      "|  ACCO|Acco Brands Corpo...|  6.06|   6.9144426684E8|Consumer Durables|          Publishing|http://www.nasdaq...|\n",
      "|   ACW|Accuride Corporat...|  5.55|    2.647488972E8|    Capital Goods|   Auto Parts:O.E.M.|http://www.nasdaq...|\n",
      "|   ACE|         Ace Limited|103.55|3.496885643485E10|          Finance|Property-Casualty...|http://www.nasdaq...|\n",
      "|   ATV|Acorn Internation...|   1.6|     4.41332208E7|Consumer Services|Other Specialty S...|http://www.nasdaq...|\n",
      "+------+--------------------+------+-----------------+-----------------+--------------------+--------------------+\n",
      "only showing top 20 rows\n",
      "\n"
     ]
    }
   ],
   "source": [
    "df_filtered = df.filter(df.Sector != 'n/a')\n",
    "df_filtered.show()\n",
    "\n"
   ]
  },
  {
   "cell_type": "code",
   "execution_count": 147,
   "id": "678af8bb",
   "metadata": {},
   "outputs": [
    {
     "name": "stdout",
     "output_type": "stream",
     "text": [
      "+------+--------------------+------+-----------------+-----------------+--------------------+--------------------+\n",
      "|Symbol|         CompanyName| Price|        MarketCap|           Sector|            Industry|             Website|\n",
      "+------+--------------------+------+-----------------+-----------------+--------------------+--------------------+\n",
      "|   DDD|3D Systems Corpor...| 51.37|  5.34093160546E9|       Technology|Computer Software...|http://www.nasdaq...|\n",
      "|   MMM|          3M Company|142.39|9.316270806833E10|      Health Care|Medical/Dental In...|http://www.nasdaq...|\n",
      "|  WBAI|     500.com Limited| 33.71|  1.10817057295E9|Consumer Services|Services-Misc. Am...|http://www.nasdaq...|\n",
      "|  WUBA|         58.com Inc.| 41.57|  3.30225204322E9|       Technology|Computer Software...|http://www.nasdaq...|\n",
      "|   AHC|A.H. Belo Corpora...| 11.67|   2.5692000975E8|Consumer Services|Newspapers/Magazines|http://www.nasdaq...|\n",
      "|  ATEN|  A10 Networks, Inc.| 11.43|   6.8642274069E8|       Technology|Computer Communic...|http://www.nasdaq...|\n",
      "|   AIR|           AAR Corp.| 24.34|     9.63098507E8|    Capital Goods|           Aerospace|http://www.nasdaq...|\n",
      "|   AAN|  Aaron&#39;s,  Inc.| 32.85|  2.37280566195E9|       Technology|Diversified Comme...|http://www.nasdaq...|\n",
      "|   ABB|             ABB Ltd| 23.77|5.468643395608E10|Consumer Durables| Electrical Products|http://www.nasdaq...|\n",
      "|   ABT| Abbott Laboratories|  39.6| 5.94767661048E10|      Health Care|Major Pharmaceuti...|http://www.nasdaq...|\n",
      "|  ABBV|         AbbVie Inc.| 54.03|8.591129077977E10|      Health Care|Major Pharmaceuti...|http://www.nasdaq...|\n",
      "|   ANF|Abercrombie & Fit...| 37.14|  2.70286762254E9|Consumer Services|Clothing/Shoe/Acc...|http://www.nasdaq...|\n",
      "|   ABM|ABM Industries In...| 27.33|  1.52672343684E9|          Finance|Diversified Comme...|http://www.nasdaq...|\n",
      "|   AKR| Acadia Realty Trust| 27.45|   1.5749893719E9|Consumer Services|Real Estate Inves...|http://www.nasdaq...|\n",
      "|   ACN|      Accenture plc.| 80.42|6.518223288014E10|    Miscellaneous|   Business Services|http://www.nasdaq...|\n",
      "|  ACMP|Access Midstream ...| 62.46|1.262256126228E10| Public Utilities|Natural Gas Distr...|http://www.nasdaq...|\n",
      "|  ACCO|Acco Brands Corpo...|  6.06|   6.9144426684E8|Consumer Durables|          Publishing|http://www.nasdaq...|\n",
      "|   ACW|Accuride Corporat...|  5.55|    2.647488972E8|    Capital Goods|   Auto Parts:O.E.M.|http://www.nasdaq...|\n",
      "|   ACE|         Ace Limited|103.55|3.496885643485E10|          Finance|Property-Casualty...|http://www.nasdaq...|\n",
      "|   ATV|Acorn Internation...|   1.6|     4.41332208E7|Consumer Services|Other Specialty S...|http://www.nasdaq...|\n",
      "+------+--------------------+------+-----------------+-----------------+--------------------+--------------------+\n",
      "only showing top 20 rows\n",
      "\n"
     ]
    }
   ],
   "source": [
    "from pyspark.sql.functions import col, when\n",
    "\n",
    "# Define strings to treat as nulls\n",
    "null_equivalents = [\"n/a\", \"N/A\", \"NA\", \"na\", \"null\", \"NULL\", \"\"]\n",
    "\n",
    "# Step 1: Replace these placeholder strings with actual nulls in all columns\n",
    "for c in df.columns:\n",
    "    df = df.withColumn(\n",
    "        c,\n",
    "        when(col(c).isin(null_equivalents), None).otherwise(col(c))\n",
    "    )\n",
    "\n",
    "# Step 2: Drop rows with nulls in any column\n",
    "df_clean = df.dropna(how='any')\n",
    "\n",
    "df_clean.show()\n",
    "\n"
   ]
  },
  {
   "cell_type": "code",
   "execution_count": null,
   "id": "d15c363d",
   "metadata": {},
   "outputs": [],
   "source": []
  }
 ],
 "metadata": {
  "kernelspec": {
   "display_name": "venv",
   "language": "python",
   "name": "python3"
  },
  "language_info": {
   "codemirror_mode": {
    "name": "ipython",
    "version": 3
   },
   "file_extension": ".py",
   "mimetype": "text/x-python",
   "name": "python",
   "nbconvert_exporter": "python",
   "pygments_lexer": "ipython3",
   "version": "3.12.7"
  }
 },
 "nbformat": 4,
 "nbformat_minor": 5
}
